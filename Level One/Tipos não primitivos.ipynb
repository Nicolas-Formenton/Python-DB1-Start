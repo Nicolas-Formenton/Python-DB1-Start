{
 "cells": [
  {
   "cell_type": "code",
   "execution_count": 19,
   "metadata": {},
   "outputs": [
    {
     "name": "stdout",
     "output_type": "stream",
     "text": [
      "10 55\n"
     ]
    }
   ],
   "source": [
    "list = [1, 2, 3, 4, 5 ,6 ,7 ,8, 9, 10]\n",
    "\n",
    "##len usa pra printar a quantidade de itens na lista\n",
    "print(len(list), sum(list))"
   ]
  },
  {
   "cell_type": "code",
   "execution_count": 20,
   "metadata": {},
   "outputs": [
    {
     "name": "stdout",
     "output_type": "stream",
     "text": [
      "3628800\n"
     ]
    }
   ],
   "source": [
    "import math\n",
    "list = [1, 2, 3, 4, 5 ,6 ,7 ,8, 9, 10]\n",
    "\n",
    "multList = math.prod(list)\n",
    "print(multList)"
   ]
  },
  {
   "cell_type": "code",
   "execution_count": 21,
   "metadata": {},
   "outputs": [
    {
     "name": "stdout",
     "output_type": "stream",
     "text": [
      "11 1\n"
     ]
    }
   ],
   "source": [
    "list = [1, 3, 5, 7, 9 ,11]\n",
    "\n",
    "maximum = max(list)\n",
    "minimum = min(list)\n",
    "\n",
    "print(maximum, minimum)"
   ]
  },
  {
   "cell_type": "code",
   "execution_count": 22,
   "metadata": {},
   "outputs": [
    {
     "name": "stdout",
     "output_type": "stream",
     "text": [
      "Counter({'o': 3, 'g': 2, 'l': 1, 'e': 1, '.': 1, 'c': 1, 'm': 1})\n"
     ]
    }
   ],
   "source": [
    "import collections\n",
    "\n",
    "string = \"google.com\"\n",
    "letters = [letter for letter in string]\n",
    "\n",
    "print(collections.Counter(letters))"
   ]
  },
  {
   "cell_type": "code",
   "execution_count": null,
   "metadata": {},
   "outputs": [],
   "source": []
  },
  {
   "cell_type": "code",
   "execution_count": 23,
   "metadata": {},
   "outputs": [
    {
     "name": "stdout",
     "output_type": "stream",
     "text": [
      "[(2, 1), (1, 2), (2, 3), (2, 5), (4, 4)]\n"
     ]
    }
   ],
   "source": [
    "lista = ((2,5), (1,2), (4,4), (2,3), (2,1))\n",
    "\n",
    "org = sorted(lista)\n",
    "org.insert(0, lista[4])\n",
    "del org[2]\n",
    "\n",
    "print(org)"
   ]
  },
  {
   "cell_type": "code",
   "execution_count": 24,
   "metadata": {},
   "outputs": [
    {
     "name": "stdout",
     "output_type": "stream",
     "text": [
      "{0: 10, 1: 20} dict_keys([0, 1]) dict_values([10, 20]) dict_items([(0, 10), (1, 20)])\n",
      "{0: 10, 1: 20, 2: 30} dict_keys([0, 1, 2]) dict_values([10, 20, 30]) dict_items([(0, 10), (1, 20), (2, 30)])\n"
     ]
    }
   ],
   "source": [
    "dic = {0: 10, 1: 20}\n",
    "\n",
    "x = dic.keys()\n",
    "y = dic.values()\n",
    "z = dic.items()\n",
    "\n",
    "print(dic, x, y, z)\n",
    "\n",
    "dic[2] = 30\n",
    "print(dic, x, y, z)"
   ]
  },
  {
   "cell_type": "code",
   "execution_count": 25,
   "metadata": {},
   "outputs": [
    {
     "name": "stdout",
     "output_type": "stream",
     "text": [
      "{1: 10, 2: 20, 3: 30, 4: 40, 5: 50, 6: 60}\n"
     ]
    }
   ],
   "source": [
    "from collections import Counter\n",
    "\n",
    "dic1 = {1: 10, 2: 20}\n",
    "dic2 = {3: 30, 4: 40}\n",
    "dic3 = {5: 50, 6: 60}\n",
    "\n",
    "x = dict(Counter(dic1) + Counter(dic2) + Counter(dic3))\n",
    "\n",
    "print(x)"
   ]
  },
  {
   "cell_type": "code",
   "execution_count": 26,
   "metadata": {},
   "outputs": [
    {
     "name": "stdout",
     "output_type": "stream",
     "text": [
      "{0: 0}\n",
      "Não está presente.\n"
     ]
    }
   ],
   "source": [
    "numeros = range(int(input('Até que número quer fazer um dicionário? ')))\n",
    "novoDict = {}\n",
    "\n",
    "for n in numeros:\n",
    "    novoDict[n] = n*2\n",
    "\n",
    "print(novoDict)\n",
    "\n",
    "if (int(input('Qual o valor da chave quer gostaria de checar? '))) in novoDict:\n",
    "    print(\"Sim, o valor está presente.\")\n",
    "else:\n",
    "    print('Não está presente.')"
   ]
  },
  {
   "cell_type": "code",
   "execution_count": 27,
   "metadata": {},
   "outputs": [
    {
     "name": "stdout",
     "output_type": "stream",
     "text": [
      "[1, 10, 20, 30, 35, 'teste']\n"
     ]
    }
   ],
   "source": [
    "lista = [1, 1, 1, 10, 20, 20, 30, 35, 35, 'teste','teste']\n",
    "lista2 = []\n",
    "\n",
    "for n in lista:\n",
    "    if n not in lista2:\n",
    "        lista2.append(n)\n",
    "\n",
    "print(lista2)"
   ]
  }
 ],
 "metadata": {
  "kernelspec": {
   "display_name": "Python 3.10.7 64-bit",
   "language": "python",
   "name": "python3"
  },
  "language_info": {
   "codemirror_mode": {
    "name": "ipython",
    "version": 3
   },
   "file_extension": ".py",
   "mimetype": "text/x-python",
   "name": "python",
   "nbconvert_exporter": "python",
   "pygments_lexer": "ipython3",
   "version": "3.10.7"
  },
  "orig_nbformat": 4,
  "vscode": {
   "interpreter": {
    "hash": "369f2c481f4da34e4445cda3fffd2e751bd1c4d706f27375911949ba6bb62e1c"
   }
  }
 },
 "nbformat": 4,
 "nbformat_minor": 2
}
