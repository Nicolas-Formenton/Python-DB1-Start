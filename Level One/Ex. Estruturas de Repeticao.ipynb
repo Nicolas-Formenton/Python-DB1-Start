{
 "cells": [
  {
   "cell_type": "code",
   "execution_count": 8,
   "metadata": {},
   "outputs": [
    {
     "name": "stdout",
     "output_type": "stream",
     "text": [
      "Seu salário total é de R$1000.00\n"
     ]
    }
   ],
   "source": [
    "salario = float(input('Quanto você ganha por hora? '))\n",
    "numeroDeHoras = float(input('Quantas horas você trabalha por mês? '))\n",
    "\n",
    "salarioTotal = salario * numeroDeHoras\n",
    "\n",
    "print(f'Seu salário total é de R${salarioTotal:.2f}')\n"
   ]
  },
  {
   "cell_type": "code",
   "execution_count": 10,
   "metadata": {},
   "outputs": [
    {
     "name": "stdout",
     "output_type": "stream",
     "text": [
      "A soma é de 12.00\n"
     ]
    }
   ],
   "source": [
    "num1 = (input('Digite um número: '))\n",
    "num2 = (input('Digite outro número: '))\n",
    "\n",
    "soma = float(num1) + float(num2)\n",
    "\n",
    "print(f'A soma é de {soma:.2f}')"
   ]
  },
  {
   "cell_type": "code",
   "execution_count": 12,
   "metadata": {},
   "outputs": [
    {
     "name": "stdout",
     "output_type": "stream",
     "text": [
      "Sua média final é de 25.0\n"
     ]
    }
   ],
   "source": [
    "nota1 = float(input('Digite sua primeira nota: '))\n",
    "nota2 = float(input('Digite sua segunda nota: '))\n",
    "nota3 = float(input('Digite sua teceira nota: '))\n",
    "nota4 = float(input('Digite sua quarta nota: '))\n",
    "\n",
    "mediaFinal = (nota1 + nota2 + nota3 + nota4)/4\n",
    "\n",
    "print(f'Sua média final é de {mediaFinal:.1f}')"
   ]
  },
  {
   "cell_type": "code",
   "execution_count": 14,
   "metadata": {},
   "outputs": [
    {
     "name": "stdout",
     "output_type": "stream",
     "text": [
      "São iguais!\n"
     ]
    }
   ],
   "source": [
    "num1 = float(input('Digite um número: '))\n",
    "num2 = float(input('Digite outro número: '))\n",
    "\n",
    "if(num1 > num2):\n",
    "    print(f'Sua primeira entrada é o maior número, {num1:.2f}')\n",
    "elif(num2 > num1):\n",
    "    print(f'Sua segunda entrada é o maior número, {num2:.2f}')\n",
    "else:\n",
    "    print('São iguais!')"
   ]
  },
  {
   "cell_type": "code",
   "execution_count": 17,
   "metadata": {},
   "outputs": [
    {
     "name": "stdout",
     "output_type": "stream",
     "text": [
      "São iguais!\n"
     ]
    }
   ],
   "source": [
    "num1 = float(input('Digite um número: '))\n",
    "num2 = float(input('Digite outro número: '))\n",
    "num3 = float(input('Digite mais um número: '))\n",
    "\n",
    "if(num1 > num2 and num1 > num3):\n",
    "    print(f'Sua primeira entrada é o maior número, {num1:.2f}')\n",
    "elif(num2 > num1 and num2 > num3):\n",
    "    print(f'Sua segunda entrada é o maior número, {num2:.2f}')\n",
    "elif(num3 > num1 and num3 > num2):\n",
    "    print(f'Sua terceira entrada é o maior número, {num3:.2f}')\n",
    "else:\n",
    "    print('São iguais!')"
   ]
  },
  {
   "cell_type": "code",
   "execution_count": 19,
   "metadata": {},
   "outputs": [
    {
     "name": "stdout",
     "output_type": "stream",
     "text": [
      "Sua primeira entrada é o menor preço, R$10.00\n"
     ]
    }
   ],
   "source": [
    "num1 = float(input('Digite o preço do produto em X merdado: '))\n",
    "num2 = float(input('Digite o preço do produto em Y merdado: '))\n",
    "num3 = float(input('Digite o preço do produto em Z merdado: '))\n",
    "\n",
    "if(num1 < num2 and num1 < num3):\n",
    "    print(f'Sua primeira entrada é o menor preço, R${num1:.2f}')\n",
    "elif(num2 < num1 and num2 < num3):\n",
    "    print(f'Sua segunda entrada é o maior número, R${num2:.2f}')\n",
    "elif(num3 < num1 and num3 < num2):\n",
    "    print(f'Sua terceira entrada é o maior número, R${num3:.2f}')\n",
    "else:\n",
    "    print('Tem preços iguais!')"
   ]
  },
  {
   "cell_type": "code",
   "execution_count": 2,
   "metadata": {},
   "outputs": [
    {
     "name": "stdout",
     "output_type": "stream",
     "text": [
      "30.0, 20.0, 10.0\n"
     ]
    }
   ],
   "source": [
    "num1 = float(input('Digite um número: '))\n",
    "num2 = float(input('Digite outro número: '))\n",
    "num3 = float(input('Digite mais um número: '))\n",
    "\n",
    "if(num1 < num2 and num1 < num3 and num2 < num3):\n",
    "    print(f'{num3}, {num2}, {num1}')\n",
    "\n",
    "elif(num3>num1 and num1>num2):\n",
    "    print(f'{num3}, {num1}, {num2}')\n",
    "\n",
    "elif(num2>num1 and num1>num3):\n",
    "    print(f'{num2}, {num1}, {num3}')\n",
    "\n",
    "elif(num2>num1 and num3>num1):\n",
    "    print(f'{num2}, {num3}, {num1}')\n",
    "\n",
    "elif(num1>num2 and num2>num3):\n",
    "    print(f'{num1}, {num2}, {num3}')\n",
    "\n",
    "elif(num1>num2 and num3>num2):\n",
    "    print(f'{num1}, {num3}, {num2}')\n",
    "\n",
    "elif(num1 == num2 and num1 == num3):\n",
    "    print(f'{num1}, {num2}, {num3}')\n",
    " "
   ]
  },
  {
   "cell_type": "code",
   "execution_count": 12,
   "metadata": {},
   "outputs": [
    {
     "name": "stdout",
     "output_type": "stream",
     "text": [
      "Triângulo Equilátero.\n"
     ]
    }
   ],
   "source": [
    "lado1 = float(input('Digite o valor de um lado: '));\n",
    "lado2 = float(input('Digite o valor de outro lado: '));\n",
    "lado3 = float(input('Digite o valor de mais um lado: '));\n",
    "\n",
    "if(lado1 == lado2 and lado1 == lado3):\n",
    "    print('Triângulo Equilátero.');\n",
    "\n",
    "elif(lado1 == lado2 or lado2 == lado3 or lado1 == lado3):\n",
    "    print('Triângulo Isósceles.');\n",
    "\n",
    "elif(lado1 != lado2 and lado1 != lado3 and lado2 != lado3):\n",
    "    print('Triângulo Escaleno.');"
   ]
  }
 ],
 "metadata": {
  "kernelspec": {
   "display_name": "Python 3.10.7 64-bit",
   "language": "python",
   "name": "python3"
  },
  "language_info": {
   "codemirror_mode": {
    "name": "ipython",
    "version": 3
   },
   "file_extension": ".py",
   "mimetype": "text/x-python",
   "name": "python",
   "nbconvert_exporter": "python",
   "pygments_lexer": "ipython3",
   "version": "3.10.7"
  },
  "orig_nbformat": 4,
  "vscode": {
   "interpreter": {
    "hash": "369f2c481f4da34e4445cda3fffd2e751bd1c4d706f27375911949ba6bb62e1c"
   }
  }
 },
 "nbformat": 4,
 "nbformat_minor": 2
}
